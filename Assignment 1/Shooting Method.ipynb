{
 "cells": [
  {
   "cell_type": "markdown",
   "metadata": {},
   "source": [
    "# Solving Boundary Value Problems using Shooting Method"
   ]
  },
  {
   "cell_type": "code",
   "execution_count": 128,
   "metadata": {
    "collapsed": true
   },
   "outputs": [],
   "source": [
    "import matplotlib.pyplot as plt\n",
    "%matplotlib inline\n",
    "import numpy as np"
   ]
  },
  {
   "cell_type": "code",
   "execution_count": 129,
   "metadata": {
    "collapsed": true
   },
   "outputs": [],
   "source": [
    "def f1(x, p ,q):\n",
    "    return q"
   ]
  },
  {
   "cell_type": "code",
   "execution_count": 149,
   "metadata": {
    "collapsed": true
   },
   "outputs": [],
   "source": [
    "def f2(x, p, q):\n",
    "    # return 6*p*p   # This is for an example problem\n",
    "    # return p       # This is for problem 2  \n",
    "    \n",
    "    # The following is for problem 1\n",
    "    \n",
    "    if x == 0:\n",
    "        return 0\n",
    "    else:\n",
    "        return (1 + q**2)/(1.0 * p)"
   ]
  },
  {
   "cell_type": "code",
   "execution_count": 152,
   "metadata": {
    "collapsed": false
   },
   "outputs": [],
   "source": [
    "def runge_kutta_4(x, p, q, h):\n",
    "    u = np.vstack((p,q))\n",
    "    \n",
    "    for i in range(len(p)-1):\n",
    "        k1 = np.array((f1(x[i], p[i], q[i]), f2(x[i], p[i], q[i])))\n",
    "        #print 'k1 is %s' %(k1)\n",
    "        k2 = np.array((f1(x[i] + 0.5*h, p[i] + k1[0]*h*0.5, q[i] + k1[1]*h*0.5 ), f2(x[i] + 0.5*h, p[i] + k1[0]*h*0.5, q[i] + k1[1]*h*0.5 )))\n",
    "        #print 'k2 is %s' %(k2)\n",
    "        k3 = np.array((f1(x[i] + 0.5*h, p[i] + k2[0]*h*0.5, q[i] + k2[1]*h*0.5 ), f2(x[i] + 0.5*h, p[i] + k2[0]*h*0.5, q[i] + k2[1]*h*0.5 )))\n",
    "        #print 'k3 is %s' %(k3)\n",
    "        k4 = np.array((f1(x[i] + h, p[i] + k3[0]*h, q[i] + k3[1]*h ), f2(x[i] + h, p[i] + k3[0]*h, q[i] + k3[1]*h )))\n",
    "        #print 'k4 is %s' %(k4)\n",
    "        u[:,i+1] = u[:,i] + (h/6.0) * (k1 + 2*k2 + 2*k3 + k4)\n",
    "        p = u[0]\n",
    "        q = u[1]\n",
    "        \n",
    "    #print 'Final u is : - %s' % (u)    \n",
    "    return p,q"
   ]
  },
  {
   "cell_type": "code",
   "execution_count": 155,
   "metadata": {
    "collapsed": false
   },
   "outputs": [],
   "source": [
    "def bvp(ya, yb, a0, a1, start, end, h, conv_threshold):\n",
    "    x = np.linspace(start, end, int((end - start)/(1.0 * h) +1) )\n",
    "    p = x.copy()\n",
    "    q = x.copy()\n",
    "    p[0] = ya   \n",
    "    \n",
    "    while abs(a0 - a1) > conv_threshold:\n",
    "        q[0] = a0\n",
    "        p, q = runge_kutta_4(x, p, q, h)\n",
    "        y0 = p[-1]\n",
    "        q[0] = a1\n",
    "        p, q = runge_kutta_4(x, p , q, h)\n",
    "        y1 = p[-1]\n",
    "        \n",
    "        a2 = a0 - (a1 - a0)*(y0 - yb)/(1.0*(y1 - y0))\n",
    "        #print '\\nAlpha0 = %s, Error0 = %s' % (a0, y0 - yb)\n",
    "        #print 'Alpha1 = %s, Error1 = %s' % (a1, y1 - yb)\n",
    "        #print 'New alpha is %s\\n' % a2\n",
    "        a0 = a1\n",
    "        a1 = a2\n",
    "    print \"Alpha has converged to %s\" % (a0)\n",
    "    print '\\nx is \\t %s' % x\n",
    "    print 'y is \\t %s' % p\n",
    "    print 'dy/dt is %s' % q\n",
    "    plt.plot(x, p)\n",
    "    "
   ]
  },
  {
   "cell_type": "code",
   "execution_count": 156,
   "metadata": {
    "collapsed": false
   },
   "outputs": [
    {
     "name": "stdout",
     "output_type": "stream",
     "text": [
      "Alpha has converged to 0.366032981181\n",
      "\n",
      "x is \t [ 0.   0.2  0.4  0.6  0.8  1. ]\n",
      "y is \t [ 1.          1.08838444  1.22529245  1.41671897  1.67118109  2.00000072]\n",
      "dy/dt is [ 0.36603298  0.55930299  0.81477713  1.10650774  1.44747393  1.8528456 ]\n"
     ]
    },
    {
     "data": {
      "image/png": "[encoded data removed]",
      "text/plain": [
       "<matplotlib.figure.Figure at 0x7f73605bc850>"
      ]
     },
     "metadata": {},
     "output_type": "display_data"
    }
   ],
   "source": [
    "def main():\n",
    "    bvp(1, 2, 0.5, 1.0, 0, 1, 0.2, 0.000001)               # For problem 1    \n",
    "    #bvp(0, -1, 0.3, 0.4, 0, 1, 0.1, 0.0001)              # For problem 2\n",
    "    #bvp(1, 4/9.0, -1.8, -1.9, 0, 0.5, 0.1, 0.00001)     # For example Problem\n",
    "\n",
    "main()    "
   ]
  },
  {
   "cell_type": "code",
   "execution_count": null,
   "metadata": {
    "collapsed": false
   },
   "outputs": [],
   "source": []
  },
  {
   "cell_type": "code",
   "execution_count": null,
   "metadata": {
    "collapsed": true
   },
   "outputs": [],
   "source": []
  }
 ],
 "metadata": {
  "kernelspec": {
   "display_name": "Python 2",
   "language": "python",
   "name": "python2"
  },
  "language_info": {
   "codemirror_mode": {
    "name": "ipython",
    "version": 2
   },
   "file_extension": ".py",
   "mimetype": "text/x-python",
   "name": "python",
   "nbconvert_exporter": "python",
   "pygments_lexer": "ipython2",
   "version": "2.7.11"
  }
 },
 "nbformat": 4,
 "nbformat_minor": 0
}
