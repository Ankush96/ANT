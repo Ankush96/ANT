{
 "cells": [
  {
   "cell_type": "markdown",
   "metadata": {},
   "source": [
    "# Solving Boundary Value Problems using Shooting Method </br>"
   ]
  },
  {
   "cell_type": "markdown",
   "metadata": {},
   "source": [
    " ## Problem 1 </br>\n",
    "   #### Equation :  y * (d<sup>2</sup>y/dx<sup>2</sup>) + 1 + (dy/dx)<sup>2</sup> = 0 </br></br>\n",
    "\n",
    "   #### Boundary Conditions - </br>\n",
    "      y(0) = 1, y(1) = 2 \n",
    "      Choose alpha_0 = 0.5, alpha_0 = 1.0 \n",
    "      h = 0.2 \n",
    " ## Problem 2 </br>\n",
    "   #### Equation :  d<sup>2</sup>y/dx<sup>2</sup> - y = 0 </br> </br>\n",
    "\n",
    "   #### Boundary Conditions - </br>\n",
    "      y(0) = 0, y(1) = -1    \n",
    "      Choose alpha_0 = 0.3, alpha_0 = 0.4 \n",
    "      h = 0.1 "
   ]
  },
  {
   "cell_type": "code",
   "execution_count": 2,
   "metadata": {
    "collapsed": true
   },
   "outputs": [],
   "source": [
    "import matplotlib.pyplot as plt\n",
    "%matplotlib inline\n",
    "import numpy as np"
   ]
  },
  {
   "cell_type": "markdown",
   "metadata": {},
   "source": [
    "#### Function to return value of dp/dx while solving coupled IVP"
   ]
  },
  {
   "cell_type": "code",
   "execution_count": 3,
   "metadata": {
    "collapsed": true
   },
   "outputs": [],
   "source": [
    "def f1(x, p ,q):\n",
    "    return q"
   ]
  },
  {
   "cell_type": "markdown",
   "metadata": {},
   "source": [
    "#### Function to return value of dq/dx while solving coupled IVP\n",
    "Both the problems are inlcluded in the same function. Hence comment/uncomment accordingly"
   ]
  },
  {
   "cell_type": "code",
   "execution_count": 15,
   "metadata": {
    "collapsed": false
   },
   "outputs": [],
   "source": [
    "def f2(x, p, q):\n",
    "    #return p       # This is for problem 2  \n",
    "    \n",
    "    # The following is for problem 1\n",
    "\n",
    "    if x == 0:\n",
    "        return 0\n",
    "    else:\n",
    "        return (1 + q**2)/(1.0 * p)\n"
   ]
  },
  {
   "cell_type": "markdown",
   "metadata": {},
   "source": [
    "#### Function to solve the coupled set of IVPs and return values at each of the grid points"
   ]
  },
  {
   "cell_type": "code",
   "execution_count": 5,
   "metadata": {
    "collapsed": false
   },
   "outputs": [],
   "source": [
    "def runge_kutta_4(x, p, q, h):\n",
    "    u = np.vstack((p,q))\n",
    "    \n",
    "    for i in range(len(p)-1):\n",
    "        k1 = np.array((f1(x[i], p[i], q[i]), f2(x[i], p[i], q[i])))\n",
    "        k2 = np.array((f1(x[i] + 0.5*h, p[i] + k1[0]*h*0.5, q[i] + k1[1]*h*0.5 ), f2(x[i] + 0.5*h, p[i] + k1[0]*h*0.5, q[i] + k1[1]*h*0.5 )))\n",
    "        k3 = np.array((f1(x[i] + 0.5*h, p[i] + k2[0]*h*0.5, q[i] + k2[1]*h*0.5 ), f2(x[i] + 0.5*h, p[i] + k2[0]*h*0.5, q[i] + k2[1]*h*0.5 )))\n",
    "        k4 = np.array((f1(x[i] + h, p[i] + k3[0]*h, q[i] + k3[1]*h ), f2(x[i] + h, p[i] + k3[0]*h, q[i] + k3[1]*h )))\n",
    "        u[:,i+1] = u[:,i] + (h/6.0) * (k1 + 2*k2 + 2*k3 + k4)\n",
    "        p = u[0]\n",
    "        q = u[1]\n",
    "    return p,q"
   ]
  },
  {
   "cell_type": "markdown",
   "metadata": {},
   "source": [
    "#### Function that uses shooting method to solve the BVP"
   ]
  },
  {
   "cell_type": "code",
   "execution_count": 11,
   "metadata": {
    "collapsed": false
   },
   "outputs": [],
   "source": [
    "def bvp(ya, yb, a0, a1, start, end, h, conv_threshold):\n",
    "    x = np.linspace(start, end, int((end - start)/(1.0 * h) +1) )\n",
    "    p = x.copy()\n",
    "    q = x.copy()\n",
    "    p[0] = ya   \n",
    "    \n",
    "    while abs(a0 - a1) > conv_threshold:\n",
    "        q[0] = a0\n",
    "        p, q = runge_kutta_4(x, p, q, h)\n",
    "        y0 = p[-1]\n",
    "        q[0] = a1\n",
    "        p, q = runge_kutta_4(x, p , q, h)\n",
    "        y1 = p[-1]\n",
    "        \n",
    "        a2 = a0 - (a1 - a0)*(y0 - yb)/(1.0*(y1 - y0))\n",
    "        a0 = a1\n",
    "        a1 = a2\n",
    "    print \"Alpha has converged to %s\" % (a0)\n",
    "    print '\\nx is \\t %s' % x\n",
    "    print 'y is \\t %s' % p\n",
    "    print 'dy/dx is %s' % q\n",
    "    plt.ylabel('y')\n",
    "    plt.xlabel('x')\n",
    "    plt.plot(x, p)\n",
    "    "
   ]
  },
  {
   "cell_type": "markdown",
   "metadata": {},
   "source": [
    "#### The main function calls the BVP function with the required input\n",
    "Both the problems are inlcluded in the same function. Hence comment/uncomment accordingly"
   ]
  },
  {
   "cell_type": "code",
   "execution_count": 16,
   "metadata": {
    "collapsed": false
   },
   "outputs": [
    {
     "name": "stdout",
     "output_type": "stream",
     "text": [
      "Alpha has converged to 0.366032981181\n",
      "\n",
      "x is \t [ 0.   0.2  0.4  0.6  0.8  1. ]\n",
      "y is \t [ 1.          1.08838444  1.22529245  1.41671897  1.67118109  2.00000072]\n",
      "dy/dx is [ 0.36603298  0.55930299  0.81477713  1.10650774  1.44747393  1.8528456 ]\n"
     ]
    },
    {
     "data": {
      "image/png": "[encoded data removed]",
      "text/plain": [
       "<matplotlib.figure.Figure at 0x7fc1df1dd6d0>"
      ]
     },
     "metadata": {},
     "output_type": "display_data"
    }
   ],
   "source": [
    "def main():\n",
    "    bvp(1, 2, 0.5, 1.0, 0, 1, 0.2, 0.00001)              # For problem 1    \n",
    "    #bvp(0, -1, 0.3, 0.4, 0, 1, 0.1, 0.0001)              # For problem 2\n",
    "\n",
    "main()    "
   ]
  },
  {
   "cell_type": "code",
   "execution_count": null,
   "metadata": {
    "collapsed": true
   },
   "outputs": [],
   "source": []
  }
 ],
 "metadata": {
  "kernelspec": {
   "display_name": "Python 2",
   "language": "python",
   "name": "python2"
  },
  "language_info": {
   "codemirror_mode": {
    "name": "ipython",
    "version": 2
   },
   "file_extension": ".py",
   "mimetype": "text/x-python",
   "name": "python",
   "nbconvert_exporter": "python",
   "pygments_lexer": "ipython2",
   "version": "2.7.11"
  }
 },
 "nbformat": 4,
 "nbformat_minor": 0
}
