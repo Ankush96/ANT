{
 "cells": [
  {
   "cell_type": "markdown",
   "metadata": {},
   "source": [
    " ## Problem 1 </br>\n",
    "   #### Equation :  d<sup>2</sup>y/dx<sup>2</sup> = x +y </br></br>\n",
    "\n",
    "   #### Boundary Conditions - </br>\n",
    "      y(0) = 0, y(1) = 0 \n",
    "      h = 0.25 \n",
    " ## Problem 2 </br>\n",
    "   #### Equation :  d<sup>2</sup>y/dx<sup>2</sup> +2*x*dy/dt +2*y = 4*x </br> </br>\n",
    "\n",
    "   #### Boundary Conditions - </br>\n",
    "      y(0) = 1, y(0.5) = 1.279    \n",
    "      h = 0.1 "
   ]
  },
  {
   "cell_type": "code",
   "execution_count": 1,
   "metadata": {
    "collapsed": true
   },
   "outputs": [],
   "source": [
    "import numpy as np\n",
    "import matplotlib.pyplot as plt\n",
    "%matplotlib inline"
   ]
  },
  {
   "cell_type": "markdown",
   "metadata": {},
   "source": [
    "### Any given equation is of the general form  --> d<sup>2</sup>y / dx<sup>2</sup> + A(x) dy / dx + B(x) y = C(x) </br>\n",
    "Hence we have to define A(x), B(x) and C(x) for every problem"
   ]
  },
  {
   "cell_type": "code",
   "execution_count": 13,
   "metadata": {
    "collapsed": true
   },
   "outputs": [],
   "source": [
    "# For Problem 1 only\n",
    "'''\n",
    "def A(x):\n",
    "    return 0 \n",
    "def B(x):\n",
    "    return -1\n",
    "def C(x):\n",
    "    return x    \n",
    "'''    \n",
    "\n",
    "# For problem 2 only\n",
    "def A(x):\n",
    "    return 2*x\n",
    "def B(x):\n",
    "    return 2\n",
    "def C(x):\n",
    "    return 4*x   "
   ]
  },
  {
   "cell_type": "markdown",
   "metadata": {},
   "source": [
    "### The Thomas Algorithm solves a tri-diagonal system efficiently"
   ]
  },
  {
   "cell_type": "code",
   "execution_count": 3,
   "metadata": {
    "collapsed": true
   },
   "outputs": [],
   "source": [
    "def thomas_algo(a, b, c, d):\n",
    "    n = len(d)\n",
    "    c_ = [0 for i in range(n)]\n",
    "    d_ = [0 for i in range(n)]\n",
    "    y = [0 for i in range(n)]\n",
    "\n",
    "    c_[0] = c[0] / (1.0 * b[0])\n",
    "    d_[0] = d[0] / (1.0 * b[0])\n",
    "    \n",
    "    for i in range(1,n):\n",
    "        c_[i] = c[i]/(b[i] - a[i]*c_[i-1])\n",
    "        d_[i] = (d[i] - a[i]*d_[i-1])/(b[i] - a[i]*c_[i-1])\n",
    "    \n",
    "    y[n-1] = d_[n-1]\n",
    "    for i in range(n-2, -1, -1):\n",
    "        y[i] = d_[i] - c_[i]*y[i+1]\n",
    "\n",
    "    return y"
   ]
  },
  {
   "cell_type": "markdown",
   "metadata": {},
   "source": [
    "### Function that converts a given BVP into a tri-diagonal system and solves it using Thomas Algorithm "
   ]
  },
  {
   "cell_type": "code",
   "execution_count": 7,
   "metadata": {
    "collapsed": true
   },
   "outputs": [],
   "source": [
    "def bvp_type_1(l, y_l, r, y_r, h):\n",
    "    n = int ((r-l) / (1.0*h))\n",
    "    a = [0 for i in range(n-1)]\n",
    "    b = [0 for i in range(n-1)]\n",
    "    c = [0 for i in range(n-1)]\n",
    "    d = [0 for i in range(n-1)]\n",
    "\n",
    "    for i in range(n-1):\n",
    "        # As i starts from 0, we define x = l + (i+1)*h\n",
    "        x = l+(i+1)*h             \n",
    "        a[i] = (1.0/h**2) - A(x)/(2.0*h)\n",
    "        b[i] = -2.0/(h**2) + B(x)\n",
    "        c[i] = 1.0/(h**2) + A(x)/(2*h)\n",
    "        d[i] = C(x)\n",
    "        if i == 0:\n",
    "            d[i] =  d[i] - a[i] * y_l\n",
    "\n",
    "    d[n-2] = d[n-2] -  c[n-2] * y_r\n",
    "    return [y_l] + thomas_algo(a, b, c, d) + [y_r]    "
   ]
  },
  {
   "cell_type": "markdown",
   "metadata": {},
   "source": [
    "### The main function calls the bvp_type_1 function with the necessary input parameters and plots the result"
   ]
  },
  {
   "cell_type": "code",
   "execution_count": 18,
   "metadata": {
    "collapsed": true
   },
   "outputs": [],
   "source": [
    "def main():\n",
    "    '''\n",
    "    # For problem 1\n",
    "    a = 0\n",
    "    b = 1\n",
    "    y_a = 0\n",
    "    y_b = 0\n",
    "    h = 0.25\n",
    "    '''\n",
    "    \n",
    "    # For problem 2\n",
    "    a = 0\n",
    "    b = 0.5\n",
    "    y_a = 1\n",
    "    y_b = 1.279\n",
    "    h = 0.1\n",
    "    \n",
    "    x = np.linspace(a,b,(b - a)/h +1)\n",
    "    y = bvp_type_1(a, y_a, b, y_b, h)\n",
    "    print '\\nx is \\t %s' % x\n",
    "    print 'y is \\t %s' % y\n",
    "    plt.ylabel('y')\n",
    "    plt.xlabel('x')\n",
    "    plt.plot(x, y)\n",
    "    plt.show()"
   ]
  },
  {
   "cell_type": "code",
   "execution_count": 19,
   "metadata": {
    "collapsed": false
   },
   "outputs": [
    {
     "name": "stdout",
     "output_type": "stream",
     "text": [
      "\n",
      "x is \t [ 0.   0.1  0.2  0.3  0.4  0.5]\n",
      "y is \t [1, 1.0902945162901956, 1.1611714279748393, 1.2143439229664605, 1.2524899828524252, 1.279]\n"
     ]
    },
    {
     "data": {
      "image/png": "[encoded data removed]",
      "text/plain": [
       "<matplotlib.figure.Figure at 0x7f2d538ef150>"
      ]
     },
     "metadata": {},
     "output_type": "display_data"
    }
   ],
   "source": [
    "main()"
   ]
  },
  {
   "cell_type": "code",
   "execution_count": null,
   "metadata": {
    "collapsed": true
   },
   "outputs": [],
   "source": []
  }
 ],
 "metadata": {
  "kernelspec": {
   "display_name": "Python 2",
   "language": "python",
   "name": "python2"
  },
  "language_info": {
   "codemirror_mode": {
    "name": "ipython",
    "version": 2
   },
   "file_extension": ".py",
   "mimetype": "text/x-python",
   "name": "python",
   "nbconvert_exporter": "python",
   "pygments_lexer": "ipython2",
   "version": "2.7.11"
  }
 },
 "nbformat": 4,
 "nbformat_minor": 0
}
