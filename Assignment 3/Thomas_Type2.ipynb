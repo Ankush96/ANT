{
 "cells": [
  {
   "cell_type": "markdown",
   "metadata": {},
   "source": [
    " ## Problem  </br>\n",
    "   #### Equation :  d<sup>2</sup>y/dx<sup>2</sup> - 2 x dy/dx - 2y = -4x </br></br>\n",
    "\n",
    "   #### Boundary Conditions - </br>\n",
    "      y(0) - y'(1) = 0 \n",
    "      2y(1) - y'(1) = 1 \n",
    "      h = 0.1, 0.5"
   ]
  },
  {
   "cell_type": "code",
   "execution_count": 61,
   "metadata": {
    "collapsed": true
   },
   "outputs": [],
   "source": [
    "import numpy as np\n",
    "import matplotlib.pyplot as plt\n",
    "%matplotlib inline"
   ]
  },
  {
   "cell_type": "markdown",
   "metadata": {},
   "source": [
    "### Any given equation is of the general form  --> d<sup>2</sup>y / dx<sup>2</sup> + A(x) dy / dx + B(x) y = C(x) </br>\n",
    "Hence we have to define A(x), B(x) and C(x) for every problem"
   ]
  },
  {
   "cell_type": "code",
   "execution_count": 62,
   "metadata": {
    "collapsed": true
   },
   "outputs": [],
   "source": [
    "def A(x):\n",
    "    return -2*x\n",
    "def B(x):\n",
    "    return -2\n",
    "def C(x):\n",
    "    return -4*x   "
   ]
  },
  {
   "cell_type": "markdown",
   "metadata": {},
   "source": [
    "### The Thomas Algorithm solves a tri-diagonal system efficiently"
   ]
  },
  {
   "cell_type": "code",
   "execution_count": 63,
   "metadata": {
    "collapsed": true
   },
   "outputs": [],
   "source": [
    "def thomas_algo(a, b, c, d):\n",
    "    n = len(d)\n",
    "    c_ = [0 for i in range(n)]\n",
    "    d_ = [0 for i in range(n)]\n",
    "    y = [0 for i in range(n)]\n",
    "\n",
    "    c_[0] = c[0] / (1.0 * b[0])\n",
    "    d_[0] = d[0] / (1.0 * b[0])\n",
    "    \n",
    "    for i in range(1,n):\n",
    "        c_[i] = c[i]/(b[i] - a[i]*c_[i-1])\n",
    "        d_[i] = (d[i] - a[i]*d_[i-1])/(b[i] - a[i]*c_[i-1])\n",
    "    \n",
    "    y[n-1] = d_[n-1]\n",
    "    for i in range(n-2, -1, -1):\n",
    "        y[i] = d_[i] - c_[i]*y[i+1]\n",
    "\n",
    "    return y"
   ]
  },
  {
   "cell_type": "markdown",
   "metadata": {},
   "source": [
    "### Function that converts a given BVP into a tri-diagonal system and solves it using Thomas Algorithm "
   ]
  },
  {
   "cell_type": "code",
   "execution_count": 68,
   "metadata": {
    "collapsed": true
   },
   "outputs": [],
   "source": [
    "def bvp_type_2(l, alp1, bet1, gam1, r, alp2, bet2, gam2, h):\n",
    "    n = int ((r-l) / (1.0*h))\n",
    "    a = [0 for i in range(n-1)]\n",
    "    b = [0 for i in range(n-1)]\n",
    "    c = [0 for i in range(n-1)]\n",
    "    d = [0 for i in range(n-1)]\n",
    "\n",
    "    for i in range(n-1):\n",
    "        # As i starts from 0, we define x = l + (i+1)*h\n",
    "        x = l+(i+1)*h             \n",
    "        a[i] = (1.0/h**2) - A(x)/(2.0*h)\n",
    "        b[i] = -2.0/(h**2) + B(x)\n",
    "        c[i] = 1.0/(h**2) + A(x)/(2*h)\n",
    "        d[i] = C(x)\n",
    "        if i == 0:\n",
    "            denom0 = alp1 - (1.5 * bet1 / h);\n",
    "            b[i] += a[i] * (-2 * bet1 / h) / denom0;\n",
    "            c[i] += a[i] * (0.5 * bet1 /h) / denom0;\n",
    "            d[i] -= a[i] * (gam1 / denom0);\n",
    "\n",
    "    denom1 = alp2 + (1.5 * bet2 / h);\n",
    "    b[i] += c[i] * (2 * bet2 / h) / denom1;\n",
    "    a[i] += c[i] * (-0.5 * bet2 /h) / denom1;\n",
    "    d[i] -= c[i] * (gam2 / denom1); \n",
    "    \n",
    "    y = thomas_algo(a, b, c, d)\n",
    "    y_l =  ((-2 * bet1 / h)*y[0] + (0.5 * bet1 /h)*y[1] +gam1)/denom0;\n",
    "    y_r =  ((2 * bet2 / h)*y[-1] +(-0.5 * bet2 /h)*y[-2] + gam2)/denom1;\n",
    "    return [y_l]+y+[y_r]  "
   ]
  },
  {
   "cell_type": "markdown",
   "metadata": {},
   "source": [
    "### The main function calls the bvp_type_2 function with the necessary input parameters and plots the result"
   ]
  },
  {
   "cell_type": "code",
   "execution_count": 69,
   "metadata": {
    "collapsed": false
   },
   "outputs": [],
   "source": [
    "def main():\n",
    "    \n",
    "    a = 0\n",
    "    b = 1\n",
    "    alp1 = 1\n",
    "    bet1 = bet2 = -1\n",
    "    alp2 = 2\n",
    "    gam1 = 0\n",
    "    gam2 = 1\n",
    "    h1 = 0.1\n",
    "    h2 = 0.05\n",
    "    h3 = 0.005\n",
    "    \n",
    "    x1 = np.linspace(a,b,(b - a)/h1 +1)\n",
    "    y1 = bvp_type_2(a, alp1, bet1, gam1, b, alp2, bet2, gam2, h1)\n",
    "    x2 = np.linspace(a,b,(b - a)/h2 +1)\n",
    "    y2 = bvp_type_2(a, alp1, bet1, gam1, b, alp2, bet2, gam2, h2)\n",
    "    x3 = np.linspace(a,b,(b - a)/h3 +1)\n",
    "    y3 = bvp_type_2(a, alp1, bet1, gam1, b, alp2, bet2, gam2, h3)\n",
    "    plt.ylabel('y')\n",
    "    plt.xlabel('x')\n",
    "    p1, p2, p3 = plt.plot(x3, np.interp(x3, x1, y1), \n",
    "                          x3, np.interp(x3, x2, y2), x3, y3)\n",
    "    \n",
    "    plt.legend([p1, (p1, p2), (p1,p2,p3)], [\"h = 0.1\", \"h =0.05\", \"h = 0.005\"], loc =4)\n",
    "   \n",
    "    plt.show()"
   ]
  },
  {
   "cell_type": "code",
   "execution_count": 70,
   "metadata": {
    "collapsed": false
   },
   "outputs": [
    {
     "data": {
      "image/png": "[encoded data removed]",
      "text/plain": [
       "<matplotlib.figure.Figure at 0x7fb73efaadd0>"
      ]
     },
     "metadata": {},
     "output_type": "display_data"
    }
   ],
   "source": [
    "main()"
   ]
  },
  {
   "cell_type": "code",
   "execution_count": null,
   "metadata": {
    "collapsed": true
   },
   "outputs": [],
   "source": []
  }
 ],
 "metadata": {
  "kernelspec": {
   "display_name": "Python 2",
   "language": "python",
   "name": "python2"
  },
  "language_info": {
   "codemirror_mode": {
    "name": "ipython",
    "version": 2
   },
   "file_extension": ".py",
   "mimetype": "text/x-python",
   "name": "python",
   "nbconvert_exporter": "python",
   "pygments_lexer": "ipython2",
   "version": "2.7.11"
  }
 },
 "nbformat": 4,
 "nbformat_minor": 0
}
