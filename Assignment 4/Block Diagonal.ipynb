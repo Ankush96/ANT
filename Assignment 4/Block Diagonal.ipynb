{
 "cells": [
  {
   "cell_type": "code",
   "execution_count": 1,
   "metadata": {
    "collapsed": true
   },
   "outputs": [],
   "source": [
    "import numpy as np\n",
    "import matplotlib.pyplot as plt\n",
    "%matplotlib inline"
   ]
  },
  {
   "cell_type": "code",
   "execution_count": 2,
   "metadata": {
    "collapsed": true
   },
   "outputs": [],
   "source": [
    "def p(x):\n",
    "    return 81\n",
    "def q(x):\n",
    "    return 81*x**2"
   ]
  },
  {
   "cell_type": "code",
   "execution_count": 92,
   "metadata": {
    "collapsed": false
   },
   "outputs": [],
   "source": [
    "def block_diagonal(a, b, c, d):\n",
    "    n = len(d)\n",
    "    \n",
    "    b_ = np.zeros(a.shape)\n",
    "    c_ = np.zeros(a.shape)\n",
    "    d_ = np.zeros((n,2,1))\n",
    "    w = np.zeros((n,2,1))\n",
    "\n",
    "    c_[0] = np.linalg.inv(b[0]).dot(c[0]) \n",
    "    d_[0] = np.linalg.inv(b[0]).dot(d[0]) \n",
    "    \n",
    "    for i in range(1,n):\n",
    "        b_[i] = b[i] - a[i].dot(c_[i-1])\n",
    "        c_[i] = np.linalg.inv(b_[i]).dot(c[i])\n",
    "        d_[i] = np.linalg.inv(b_[i]).dot((d[i] - a[i].dot(d_[i-1])))\n",
    "    \n",
    "    w[n-1] = np.copy(d_[n-1])\n",
    "    for i in range(n-2, -1, -1):\n",
    "        w[i] = d_[i] - c_[i].dot(w[i+1])\n",
    "\n",
    "    return w"
   ]
  },
  {
   "cell_type": "code",
   "execution_count": 177,
   "metadata": {
    "collapsed": true
   },
   "outputs": [],
   "source": [
    "def bvp(l, r, a1, a2, a3, a4, h):\n",
    "    n = int ((r-l) / (1.0*h))\n",
    "    a = np.zeros((n-1,2,2))\n",
    "    b = np.zeros((n-1,2,2))\n",
    "    c = np.zeros((n-1,2,2))\n",
    "    d = np.zeros((n-1,2,1))\n",
    "\n",
    "    for i in range(n-1):\n",
    "        # As i starts from 0, we define x = l + (i+1)*h\n",
    "        x = l+(i+1)*h             \n",
    "        a[i] = np.array(([[1.0 / h**2, 0],[0, 1 / h**2]]))\n",
    "        b[i] = np.array(([[-2.0 / h**2, -1],[p(x), 1.0 / h**2]]))\n",
    "        c[i] = np.array(([[1.0 / h**2, 0],[0, 1 / h**2]]))\n",
    "        d[i] = np.array(([[0],[q(x)]]))\n",
    "        if i == 0:\n",
    "            d[i] =  d[i] - a[i].dot(np.array(([[a1], [a3]])))\n",
    "\n",
    "    d[n-2] = d[n-2] -  c[n-2].dot(np.array(([[a2], [a4]])))\n",
    "    w = block_diagonal(a, b, c, d)\n",
    "    w = np.vstack(([np.array(([[a1], [a3]]))], w))\n",
    "    return np.vstack((w, [npw.array(([[a2], [a4]]))]))"
   ]
  },
  {
   "cell_type": "code",
   "execution_count": 193,
   "metadata": {
    "collapsed": false
   },
   "outputs": [],
   "source": [
    "def main():\n",
    "\n",
    "    a = 0\n",
    "    b = 1\n",
    "    a1 =a2 =a3 =a4 =0\n",
    "    \n",
    "    h1 = 0.1\n",
    "    h2 = 0.05\n",
    "    h3 = 0.02\n",
    "    \n",
    "    x1 = np.linspace(a,b,(b - a)/h1 +1)\n",
    "    w1 = bvp(a, b, a1, a2, a3, a4, h1)\n",
    "    y1 = w1[[range(w1.shape[0])],[0],[0]]\n",
    "    y1 = y1[0]\n",
    "    \n",
    "    \n",
    "    x2 = np.linspace(a,b,(b - a)/h2 +1)\n",
    "    w2 = bvp(a, b, a1, a2, a3, a4, h2)\n",
    "    y2 = w2[[range(w2.shape[0])],[0],[0]]\n",
    "    y2 = y2[0]\n",
    "    \n",
    "    \n",
    "    x3 = np.linspace(a,b,(b - a)/h3 +1)\n",
    "    w3 = bvp(a, b, a1, a2, a3, a4, h3)\n",
    "    y3 = w3[[range(w3.shape[0])],[0],[0]]\n",
    "    y3 = y3[0]\n",
    "    \n",
    "    \n",
    "    plt.ylabel('y')\n",
    "    plt.xlabel('x')\n",
    "    \n",
    "    p1, p2, p3 = plt.plot(x3, np.interp(x3, x1, y1), \n",
    "                          x3, np.interp(x3, x2, y2), x3, y3)\n",
    "    \n",
    "    plt.legend([p1, (p1, p2), (p1,p2,p3)], [\"h = 0.1\", \"h =0.05\", \"h = 0.005\"], loc =4)\n",
    "   \n",
    "    plt.show()"
   ]
  },
  {
   "cell_type": "code",
   "execution_count": 194,
   "metadata": {
    "collapsed": false,
    "scrolled": true
   },
   "outputs": [
    {
     "data": {
      "image/png": "[encoded data removed]",
      "text/plain": [
       "<matplotlib.figure.Figure at 0x7f0b05a44750>"
      ]
     },
     "metadata": {},
     "output_type": "display_data"
    }
   ],
   "source": [
    "main()"
   ]
  },
  {
   "cell_type": "code",
   "execution_count": null,
   "metadata": {
    "collapsed": true
   },
   "outputs": [],
   "source": []
  },
  {
   "cell_type": "code",
   "execution_count": null,
   "metadata": {
    "collapsed": true
   },
   "outputs": [],
   "source": []
  }
 ],
 "metadata": {
  "kernelspec": {
   "display_name": "Python 2",
   "language": "python",
   "name": "python2"
  },
  "language_info": {
   "codemirror_mode": {
    "name": "ipython",
    "version": 2
   },
   "file_extension": ".py",
   "mimetype": "text/x-python",
   "name": "python",
   "nbconvert_exporter": "python",
   "pygments_lexer": "ipython2",
   "version": "2.7.11"
  }
 },
 "nbformat": 4,
 "nbformat_minor": 0
}
