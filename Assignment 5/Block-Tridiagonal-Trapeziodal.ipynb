{
 "cells": [
  {
   "cell_type": "markdown",
   "metadata": {},
   "source": [
    "   ### Equation :  f''' + ff'' + 1 -  (f')<sup>2</sup> = 0\n",
    "   #### Conditions - </br>\n",
    "      f(0) = 0, f'(0) = 0, f'(10) = 1  \n",
    "      "
   ]
  },
  {
   "cell_type": "code",
   "execution_count": 84,
   "metadata": {
    "collapsed": true
   },
   "outputs": [],
   "source": [
    "import numpy as np\n",
    "import matplotlib.pyplot as plt\n",
    "%matplotlib inline"
   ]
  },
  {
   "cell_type": "code",
   "execution_count": 98,
   "metadata": {
    "collapsed": false
   },
   "outputs": [],
   "source": [
    "h = 1\n",
    "N = int(10/h)\n",
    "x = np.linspace(0, 10, N+1)\n",
    "\n",
    "# Initial Assumption\n",
    "F = x*(10-x) + x/10.0\n",
    "f = 5*x**2 - x**3/3.0 + x**2/20.0"
   ]
  },
  {
   "cell_type": "code",
   "execution_count": 99,
   "metadata": {
    "collapsed": false
   },
   "outputs": [],
   "source": [
    "def block_diagonal(a, b, c, d):\n",
    "    n = len(d)\n",
    "    \n",
    "    b_ = np.zeros(a.shape)\n",
    "    c_ = np.zeros(a.shape)\n",
    "    d_ = np.zeros((n,2,1))\n",
    "    w = np.zeros((n,2,1))\n",
    "\n",
    "    c_[0] = np.linalg.inv(b[0]).dot(c[0]) \n",
    "    d_[0] = np.linalg.inv(b[0]).dot(d[0]) \n",
    "    \n",
    "    for i in range(1,n):\n",
    "        b_[i] = b[i] - a[i].dot(c_[i-1])\n",
    "        c_[i] = np.linalg.inv(b_[i]).dot(c[i])\n",
    "        d_[i] = np.linalg.inv(b_[i]).dot((d[i] - a[i].dot(d_[i-1])))\n",
    "    \n",
    "    w[n-1] = np.copy(d_[n-1])\n",
    "    for i in range(n-2, -1, -1):\n",
    "        w[i] = d_[i] - c_[i].dot(w[i+1])\n",
    "\n",
    "    return w"
   ]
  },
  {
   "cell_type": "code",
   "execution_count": 100,
   "metadata": {
    "collapsed": false
   },
   "outputs": [
    {
     "data": {
      "text/plain": [
       "[<matplotlib.lines.Line2D at 0x7fe5dfa6d090>]"
      ]
     },
     "execution_count": 100,
     "metadata": {},
     "output_type": "execute_result"
    },
    {
     "data": {
      "image/png": "[encoded data removed]",
      "text/plain": [
       "<matplotlib.figure.Figure at 0x7fe5dfbe2310>"
      ]
     },
     "metadata": {},
     "output_type": "display_data"
    }
   ],
   "source": [
    "k = 10\n",
    "\n",
    "for i in range(k):\n",
    "    A = np.zeros((N-1,2,2))\n",
    "    B = np.zeros((N-1,2,2))\n",
    "    C = np.zeros((N-1,2,2))\n",
    "    D = np.zeros((N-1,2,1))\n",
    "    for i in range(1,N):\n",
    "        A[i-1] = np.array([[-1, -h/2.0], [0, 1/h**2 - f[i]/(2.0*h)]], dtype=np.float64)\n",
    "        B[i-1] = np.array([[1, -h/2.0], [(F[i+1] - F[i-1])/(2.0*h), -2.0/h**2 + 2*F[i]]], dtype=np.float64)\n",
    "        C[i-1] = np.array([[0, 0], [0, 1/h**2 + f[i]/(2.0*h)]], dtype=np.float16)\n",
    "\n",
    "        D[i-1] = np.array([[-f[i] + f[i-1] + 0.5*h*(F[i] + F[i-1])], \n",
    "                  [(F[i+1] - 2*F[i] + F[i-1]) / (-1*h**2) + f[i] *(-F[i+1] + F[i-1])/(2.0*h)+ F[i]**2]], dtype=np.float64)\n",
    "    f[1:N] = f[1:N] + block_diagonal(A, B, C, D)[:,0][:,0]\n",
    "    F[1:N] = F[1:N] + block_diagonal(A, B, C, D)[:,1][:,0]\n",
    "    f[N] = f[N-1] + 0.5*h*(F[N] + F[N-1]) \n",
    "plt.plot(x,f)"
   ]
  },
  {
   "cell_type": "code",
   "execution_count": null,
   "metadata": {
    "collapsed": true
   },
   "outputs": [],
   "source": []
  }
 ],
 "metadata": {
  "kernelspec": {
   "display_name": "Python 2",
   "language": "python",
   "name": "python2"
  },
  "language_info": {
   "codemirror_mode": {
    "name": "ipython",
    "version": 2
   },
   "file_extension": ".py",
   "mimetype": "text/x-python",
   "name": "python",
   "nbconvert_exporter": "python",
   "pygments_lexer": "ipython2",
   "version": "2.7.11"
  }
 },
 "nbformat": 4,
 "nbformat_minor": 0
}
