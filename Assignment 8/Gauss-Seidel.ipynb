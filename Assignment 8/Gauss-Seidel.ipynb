{
 "cells": [
  {
   "cell_type": "code",
   "execution_count": 2,
   "metadata": {
    "collapsed": true
   },
   "outputs": [],
   "source": [
    "import numpy as np\n",
    "from matplotlib import pyplot as plt\n",
    "from matplotlib import animation\n",
    "from mpl_toolkits.mplot3d import Axes3D\n",
    "#%matplotlib inline\n",
    "from matplotlib import rcParams\n",
    "rcParams['font.family'] = 'serif'\n",
    "rcParams['font.size'] = 16"
   ]
  },
  {
   "cell_type": "code",
   "execution_count": 3,
   "metadata": {
    "collapsed": true
   },
   "outputs": [],
   "source": [
    "ya = xa = 0\n",
    "yb = xb = 1\n",
    "dx = dy = 0.05"
   ]
  },
  {
   "cell_type": "code",
   "execution_count": 4,
   "metadata": {
    "collapsed": true
   },
   "outputs": [],
   "source": [
    "n = (xb - xa)/dx\n",
    "n = int(n)\n",
    "m = (yb - ya)/dy\n",
    "m = int(m)"
   ]
  },
  {
   "cell_type": "code",
   "execution_count": 5,
   "metadata": {
    "collapsed": false
   },
   "outputs": [],
   "source": [
    "x_grid = np.linspace(xa,xb,n+1)\n",
    "y_grid = np.linspace(ya,yb,m+1)\n",
    "yv, xv = np.meshgrid(x_grid, y_grid)\n",
    "\n",
    "Z_n,_ = np.meshgrid(np.zeros(len(y_grid)),np.zeros(len(x_grid)))\n"
   ]
  },
  {
   "cell_type": "code",
   "execution_count": 6,
   "metadata": {
    "collapsed": false
   },
   "outputs": [],
   "source": [
    "max_err = -1e10\n",
    "prev_max_err = -2e10\n",
    "allowed_err = 1e-5\n",
    "flag = True\n",
    "while flag:\n",
    "    for i in range(1,n):\n",
    "        #print '--i = %d--'%i\n",
    "        x = xa + i*dx\n",
    "        for j in range(1,m):\n",
    "            #print 'j = %d'%j\n",
    "            y = ya + j*dy\n",
    "            prev = Z_n[i][j]\n",
    "            Z_n[i][j] = 0.25*(Z_n[i-1][j] + Z_n[i][j-1]\n",
    "                              + Z_n[i][j+1] + Z_n[i+1][j] \n",
    "                              - (x**2 + y**2)/16.0)\n",
    "            #print abs(Z_n[i][j] - prev)\n",
    "            if abs(Z_n[i][j] - prev) > max_err:\n",
    "                max_err = abs(Z_n[i][j] - prev)\n",
    "    \n",
    "    if abs(max_err  - prev_max_err) < allowed_err:\n",
    "        flag = False\n",
    "    else:\n",
    "        prev_max_err = max_err"
   ]
  },
  {
   "cell_type": "code",
   "execution_count": 7,
   "metadata": {
    "collapsed": false
   },
   "outputs": [],
   "source": [
    "fig = plt.figure()\n",
    "ax = fig.add_subplot(111, projection='3d')\n",
    "wframe = ax.plot_wireframe(xv, yv, Z_n)\n",
    "plt.show()"
   ]
  },
  {
   "cell_type": "code",
   "execution_count": null,
   "metadata": {
    "collapsed": true
   },
   "outputs": [],
   "source": []
  }
 ],
 "metadata": {
  "kernelspec": {
   "display_name": "Python 2",
   "language": "python",
   "name": "python2"
  },
  "language_info": {
   "codemirror_mode": {
    "name": "ipython",
    "version": 2
   },
   "file_extension": ".py",
   "mimetype": "text/x-python",
   "name": "python",
   "nbconvert_exporter": "python",
   "pygments_lexer": "ipython2",
   "version": "2.7.11"
  }
 },
 "nbformat": 4,
 "nbformat_minor": 0
}
