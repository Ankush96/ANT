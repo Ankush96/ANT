{
 "cells": [
  {
   "cell_type": "code",
   "execution_count": 1,
   "metadata": {
    "collapsed": true
   },
   "outputs": [],
   "source": [
    "import numpy as np\n",
    "from matplotlib import pyplot as plt\n",
    "from matplotlib import animation\n",
    "from mpl_toolkits.mplot3d import Axes3D\n",
    "#%matplotlib inline\n",
    "from matplotlib import rcParams\n",
    "rcParams['font.family'] = 'serif'\n",
    "rcParams['font.size'] = 16"
   ]
  },
  {
   "cell_type": "code",
   "execution_count": 2,
   "metadata": {
    "collapsed": true
   },
   "outputs": [],
   "source": [
    "def block_diagonal(a, b, c, d):\n",
    "    n = len(d)\n",
    "    \n",
    "    b_ = np.zeros(a.shape)\n",
    "    c_ = np.zeros(a.shape)\n",
    "    d_ = np.zeros((n,2,1))\n",
    "\n",
    "    c_[0] = np.linalg.inv(b[0]).dot(c[0]) \n",
    "    d_[0] = np.linalg.inv(b[0]).dot(d[0]) \n",
    "    \n",
    "    for i in range(1,n):\n",
    "        b_[i] = b[i] - a[i].dot(c_[i-1])\n",
    "        c_[i] = np.linalg.inv(b_[i]).dot(c[i])\n",
    "        d_[i] = np.linalg.inv(b_[i]).dot((d[i] - a[i].dot(d_[i-1])))\n",
    "    \n",
    "    for i in range(n-2, -1, -1):\n",
    "        d_[i] = d_[i] - c_[i].dot(d_[i+1])\n",
    "\n",
    "    return d_"
   ]
  },
  {
   "cell_type": "code",
   "execution_count": 3,
   "metadata": {
    "collapsed": true
   },
   "outputs": [],
   "source": [
    "ya = yb = 0\n",
    "xa = 0\n",
    "xb = 1\n",
    "h=0.05"
   ]
  },
  {
   "cell_type": "code",
   "execution_count": 4,
   "metadata": {
    "collapsed": false
   },
   "outputs": [],
   "source": [
    "def solver(xa,xb,ya,yb,h):\n",
    "    n = int((xb - xa)/h)\n",
    "    a = np.zeros((n-1,2,2))\n",
    "    b = np.zeros((n-1,2,2))\n",
    "    c = np.zeros((n-1,2,2))\n",
    "    d = np.zeros((n-1,2,1))\n",
    "\n",
    "    for i in range(n-1):\n",
    "        # As i starts from 0, we define x = l + (i+1)*h\n",
    "        x = xa+(i+1)*h             \n",
    "        a[i] = np.array(([[0,0],[-2.0/h, h/3.0 ]]))\n",
    "        b[i] = np.array(([[1 - 2.0/h, 1-2*h/3.0],[1 + 2.0/h, 1+2*(h/3.0)]]))\n",
    "        c[i] = np.array(([[2.0/h, -h/3.0],[0, 0]]))\n",
    "        d[i] = np.array(([[30*(x)],[30*x]]))\n",
    "        if i == 0:\n",
    "            d[i] =  d[i] + np.array(([[0],[ya*(2.0/h)-(h/(3-2.0*h))*(30*xa-(1-2.0/h)*ya)]]))\n",
    "            a[i] = np.array(([[0,0],[0,0]]))\n",
    "            b[i] = b[i] + np.array(([[0, 0],[-2.0/(3-2*h), h**2/(9-6.0*h)]]))\n",
    "                                  \n",
    "\n",
    "    d[n-2] =  d[n-2] + np.array(([[[yb*(-2.0/h)+(h/(3+2.0*h))*(30*xb-(1+2.0/h)*yb)],[0]]]))\n",
    "    c[n-2] = np.array(([[0,0],[0,0]]))\n",
    "    b[n-2] = b[n-2] + np.array(([[-2.0/(3+2*h), h**2/(9+6.0*h)],[0, 0]]))\n",
    "\n",
    "    w = block_diagonal(a, b, c, d)\n",
    "    y = np.concatenate(([ya],w[:,0,0],[yb]))\n",
    "    x = np.linspace(xa,xb,(xb-xa)/h+1)\n",
    "    return x,y"
   ]
  },
  {
   "cell_type": "code",
   "execution_count": 9,
   "metadata": {
    "collapsed": false
   },
   "outputs": [
    {
     "data": {
      "image/png": "[encoded data removed]",
      "text/plain": [
       "<matplotlib.figure.Figure at 0x7f52d4946950>"
      ]
     },
     "metadata": {},
     "output_type": "display_data"
    }
   ],
   "source": [
    "X1,Y1 = solver(xa,xb,ya,yb,0.5)\n",
    "X2,Y2 = solver(xa,xb,ya,yb,0.2)\n",
    "X3,Y3 = solver(xa,xb,ya,yb,0.05)\n",
    "\n",
    "\n",
    "plt.ylabel('y')\n",
    "plt.xlabel('x')\n",
    "   \n",
    "p1, p2, p3 = plt.plot(X3, np.interp(X3, X1, Y1), \n",
    "                          X3, np.interp(X3, X2, Y2), X3, Y3)\n",
    "    \n",
    "plt.legend([p1, (p1, p2), (p1,p2,p3)], [\"h = 0.5\", \"h =0.2\", \"h = 0.05\"], loc =4)\n",
    "  \n",
    "plt.show()"
   ]
  },
  {
   "cell_type": "code",
   "execution_count": null,
   "metadata": {
    "collapsed": true
   },
   "outputs": [],
   "source": []
  }
 ],
 "metadata": {
  "kernelspec": {
   "display_name": "Python 2",
   "language": "python",
   "name": "python2"
  },
  "language_info": {
   "codemirror_mode": {
    "name": "ipython",
    "version": 2
   },
   "file_extension": ".py",
   "mimetype": "text/x-python",
   "name": "python",
   "nbconvert_exporter": "python",
   "pygments_lexer": "ipython2",
   "version": "2.7.11"
  }
 },
 "nbformat": 4,
 "nbformat_minor": 0
}
