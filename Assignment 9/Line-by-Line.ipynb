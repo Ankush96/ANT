{
 "cells": [
  {
   "cell_type": "code",
   "execution_count": 20,
   "metadata": {
    "collapsed": true
   },
   "outputs": [],
   "source": [
    "import numpy as np\n",
    "from matplotlib import pyplot as plt\n",
    "from matplotlib import animation\n",
    "from mpl_toolkits.mplot3d import Axes3D\n",
    "#%matplotlib inline\n",
    "from matplotlib import rcParams\n",
    "rcParams['font.family'] = 'serif'\n",
    "rcParams['font.size'] = 16"
   ]
  },
  {
   "cell_type": "code",
   "execution_count": 21,
   "metadata": {
    "collapsed": true
   },
   "outputs": [],
   "source": [
    "def thomas_algo(a, b, c, d):\n",
    "    n = len(d)\n",
    "    c_ = [0 for i in range(n)]\n",
    "    d_ = [0 for i in range(n)]\n",
    "    y = [0 for i in range(n)]\n",
    "\n",
    "    c_[0] = c[0] / (1.0 * b[0])\n",
    "    d_[0] = d[0] / (1.0 * b[0])\n",
    "    \n",
    "    for i in range(1,n):\n",
    "        c_[i] = c[i]/(b[i] - a[i]*c_[i-1])\n",
    "        d_[i] = (d[i] - a[i]*d_[i-1])/(b[i] - a[i]*c_[i-1])\n",
    "    \n",
    "    y[n-1] = d_[n-1]\n",
    "    for i in range(n-2, -1, -1):\n",
    "        y[i] = d_[i] - c_[i]*y[i+1]\n",
    "\n",
    "    return y"
   ]
  },
  {
   "cell_type": "code",
   "execution_count": 22,
   "metadata": {
    "collapsed": true
   },
   "outputs": [],
   "source": [
    "dx = dy = 0.05\n",
    "xa = ya = 0\n",
    "xb = yb = 1\n",
    "\n",
    "m = n = int(1.0/dx)\n",
    "x_grid = np.linspace(xa,xb,n+1)\n",
    "y_grid = np.linspace(ya,yb,m+1)\n",
    "yv, xv = np.meshgrid(x_grid, y_grid)\n",
    "\n",
    "Z_n,_ = np.meshgrid(np.zeros(len(y_grid)),np.zeros(len(x_grid)))"
   ]
  },
  {
   "cell_type": "code",
   "execution_count": 23,
   "metadata": {
    "collapsed": false
   },
   "outputs": [],
   "source": [
    "flag = True\n",
    "prev_max_err = -2e10\n",
    "allowed_err = 1e-5\n",
    "while flag:\n",
    "    prev = Z_n.copy()\n",
    "    for i in range(1,m):\n",
    "        x = xa + i*dx\n",
    "        a = [0 for k in range(n-1)]\n",
    "        b = [0 for k in range(n-1)]\n",
    "        c = [0 for k in range(n-1)]\n",
    "        d = [0 for k in range(n-1)]\n",
    "        for j in range(n-1):\n",
    "            y = ya + j*dy\n",
    "            a[j] = 16\n",
    "            b[j] = -64\n",
    "            c[j] = 16\n",
    "            d[j] = x**2 + y**2 -16*Z_n[i-1][j+1] -16*Z_n[i+1][j+1]\n",
    "            if j == 0:\n",
    "                d[j] =  d[j] - a[j]*Z_n[i][j]\n",
    "        d[n-2] -= c[j]*Z_n[i][j+2]\n",
    "        Z_n[i,1:-1] = thomas_algo(a, b, c, d)\n",
    "    max_err = abs(Z_n - prev).max()\n",
    "    if abs(max_err  - prev_max_err) < allowed_err:\n",
    "        flag = False\n",
    "    else:\n",
    "        prev_max_err = max_err"
   ]
  },
  {
   "cell_type": "code",
   "execution_count": 26,
   "metadata": {
    "collapsed": true
   },
   "outputs": [],
   "source": [
    "fig = plt.figure()\n",
    "ax = fig.add_subplot(111, projection='3d')\n",
    "wframe = ax.plot_wireframe(xv, yv, Z_n)\n",
    "plt.show()"
   ]
  },
  {
   "cell_type": "code",
   "execution_count": null,
   "metadata": {
    "collapsed": true
   },
   "outputs": [],
   "source": []
  }
 ],
 "metadata": {
  "kernelspec": {
   "display_name": "Python 2",
   "language": "python",
   "name": "python2"
  },
  "language_info": {
   "codemirror_mode": {
    "name": "ipython",
    "version": 2
   },
   "file_extension": ".py",
   "mimetype": "text/x-python",
   "name": "python",
   "nbconvert_exporter": "python",
   "pygments_lexer": "ipython2",
   "version": "2.7.11"
  }
 },
 "nbformat": 4,
 "nbformat_minor": 0
}
