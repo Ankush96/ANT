{
 "cells": [
  {
   "cell_type": "code",
   "execution_count": 1,
   "metadata": {
    "collapsed": true
   },
   "outputs": [],
   "source": [
    "import numpy as np\n",
    "from matplotlib import pyplot as plt\n",
    "from matplotlib import animation\n",
    "from mpl_toolkits.mplot3d import Axes3D\n",
    "#%matplotlib inline\n",
    "from matplotlib import rcParams\n",
    "rcParams['font.family'] = 'serif'\n",
    "rcParams['font.size'] = 16"
   ]
  },
  {
   "cell_type": "code",
   "execution_count": 2,
   "metadata": {
    "collapsed": true
   },
   "outputs": [],
   "source": [
    "def thomas_algo(a, b, c, d):\n",
    "    n = len(d)\n",
    "    c_ = [0 for i in range(n)]\n",
    "    d_ = [0 for i in range(n)]\n",
    "    y = [0 for i in range(n)]\n",
    "\n",
    "    c_[0] = c[0] / (1.0 * b[0])\n",
    "    d_[0] = d[0] / (1.0 * b[0])\n",
    "    \n",
    "    for i in range(1,n):\n",
    "        c_[i] = c[i]/(b[i] - a[i]*c_[i-1])\n",
    "        d_[i] = (d[i] - a[i]*d_[i-1])/(b[i] - a[i]*c_[i-1])\n",
    "    \n",
    "    y[n-1] = d_[n-1]\n",
    "    for i in range(n-2, -1, -1):\n",
    "        y[i] = d_[i] - c_[i]*y[i+1]\n",
    "\n",
    "    return y"
   ]
  },
  {
   "cell_type": "code",
   "execution_count": 3,
   "metadata": {
    "collapsed": false
   },
   "outputs": [],
   "source": [
    "dx = dy = 0.05\n",
    "r = 1.0/6\n",
    "dt = r*dx**2\n",
    "xa = ya = 0\n",
    "xb = yb = 1\n",
    "\n",
    "m = n = int(1.0/dx)\n",
    "x_grid = np.linspace(xa,xb,n+1)\n",
    "y_grid = np.linspace(ya,yb,m+1)\n",
    "yv, xv = np.meshgrid(x_grid, y_grid)\n",
    "\n",
    "Z_n,_ = np.meshgrid(np.zeros(len(x_grid)),np.zeros(len(y_grid)))"
   ]
  },
  {
   "cell_type": "code",
   "execution_count": 4,
   "metadata": {
    "collapsed": true
   },
   "outputs": [],
   "source": [
    "def step1(j):\n",
    "    a = [0 for i in range(n-1)]\n",
    "    b = [0 for i in range(n-1)]\n",
    "    c = [0 for i in range(n-1)]\n",
    "    d = [0 for i in range(n-1)]\n",
    "    \n",
    "    for i in range(n-1):\n",
    "        # As i starts from 0, we define x = l + (i+1)*h\n",
    "        x = xa+(i+1)*dx  \n",
    "        y = ya + j*dy\n",
    "        a[i] = r\n",
    "        b[i] = -2.0*(1+r)\n",
    "        c[i] = r\n",
    "        d[i] = -1*r*Z_n[i+1][j+1] +2*(r-1)*Z_n[i+1][j] -1*r*Z_n[i+1][j-1]\n",
    "        if i == 0:\n",
    "            d[i] =  d[i] - a[i] * np.exp(0.2*np.pi*xa)*np.sin(0.2*np.pi*y)\n",
    "\n",
    "    d[n-2] = d[n-2] -  c[n-2] * np.exp(0.2*np.pi*xb)*np.sin(0.2*np.pi*y)\n",
    "\n",
    "    return thomas_algo(a, b, c, d)"
   ]
  },
  {
   "cell_type": "code",
   "execution_count": 5,
   "metadata": {
    "collapsed": true
   },
   "outputs": [],
   "source": [
    "def step2(i):\n",
    "    a = [0 for j in range(m-1)]\n",
    "    b = [0 for j in range(m-1)]\n",
    "    c = [0 for j in range(m-1)]\n",
    "    d = [0 for j in range(m-1)]\n",
    "    \n",
    "    for j in range(m-1):\n",
    "        # As i starts from 0, we define x = l + (i+1)*h\n",
    "        y = ya+(j+1)*dy  \n",
    "        x = xa + i*dx\n",
    "        a[j] = r\n",
    "        b[j] = -2.0*(1+r)\n",
    "        c[j] = r\n",
    "        d[j] = -1*r*Z_n[i-1][j+1] +2*(r-1)*Z_n[i][j+1] -1*r*Z_n[i+1][j+1]\n",
    "        if j == 0:\n",
    "            d[j] =  d[j] - a[j] * np.exp(0.2*np.pi*x)*np.sin(0.2*np.pi*ya)\n",
    "\n",
    "    d[m-2] = d[m-2] -  c[m-2] * np.exp(0.2*np.pi*x)*np.sin(0.2*np.pi*yb)\n",
    "\n",
    "    return thomas_algo(a, b, c, d)"
   ]
  },
  {
   "cell_type": "code",
   "execution_count": 6,
   "metadata": {
    "collapsed": false
   },
   "outputs": [],
   "source": [
    "def adi():\n",
    "    new_Z,_ = np.meshgrid(np.zeros(len(x_grid)),np.zeros(len(y_grid)))\n",
    "    new_Z[0,:] = np.exp(0.2*np.pi*xa)*np.sin(0.2*np.pi*y_grid)\n",
    "    new_Z[-1,:] = np.exp(0.2*np.pi*xb)*np.sin(0.2*np.pi*y_grid)\n",
    "    new_Z[:,0] = np.exp(0.2*np.pi*x_grid)*np.sin(0.2*np.pi*ya)\n",
    "    new_Z[:,-1] = np.exp(0.2*np.pi*x_grid)*np.sin(0.2*np.pi*yb)\n",
    "    for j in range(1,n):\n",
    "        v_j = step1(j)\n",
    "        new_Z[1:-1,j] =  v_j\n",
    "    Z_n = new_Z\n",
    "    for i in range(1,m):\n",
    "        v_i = step2(i)\n",
    "        new_Z[i,1:-1] =  v_i\n",
    "    Z_n = new_Z\n",
    "    return Z_n"
   ]
  },
  {
   "cell_type": "code",
   "execution_count": 7,
   "metadata": {
    "collapsed": false
   },
   "outputs": [],
   "source": [
    "def generate(X, Y, t):\n",
    "    if t==0:\n",
    "        p,_ = np.meshgrid(np.zeros(len(x_grid)),np.zeros(len(y_grid)))\n",
    "        return p\n",
    "    else:\n",
    "        return adi()"
   ]
  },
  {
   "cell_type": "code",
   "execution_count": 9,
   "metadata": {
    "collapsed": false
   },
   "outputs": [],
   "source": [
    "fig = plt.figure()\n",
    "ax = fig.add_subplot(111, projection='3d')\n",
    "\n",
    "Z_n = generate(xv,yv,0)\n",
    "\n",
    "wframe = None\n",
    "for i in range(100):\n",
    "\n",
    "    oldcol = wframe\n",
    "    for j in range(int(0.2*i**2)):\n",
    "        Z_n = generate(xv, yv, 1)\n",
    "    wframe = ax.plot_wireframe(xv, yv, Z_n)\n",
    "\n",
    "    # Remove old line collection before drawing\n",
    "    if oldcol is not None:\n",
    "        ax.collections.remove(oldcol)\n",
    "\n",
    "    plt.pause(.05)\n",
    "plt.show()"
   ]
  },
  {
   "cell_type": "code",
   "execution_count": null,
   "metadata": {
    "collapsed": true
   },
   "outputs": [],
   "source": []
  }
 ],
 "metadata": {
  "kernelspec": {
   "display_name": "Python 2",
   "language": "python",
   "name": "python2"
  },
  "language_info": {
   "codemirror_mode": {
    "name": "ipython",
    "version": 2
   },
   "file_extension": ".py",
   "mimetype": "text/x-python",
   "name": "python",
   "nbconvert_exporter": "python",
   "pygments_lexer": "ipython2",
   "version": "2.7.11"
  }
 },
 "nbformat": 4,
 "nbformat_minor": 0
}
